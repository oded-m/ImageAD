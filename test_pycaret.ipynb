{
 "cells": [
  {
   "cell_type": "code",
   "execution_count": 64,
   "id": "f5215f71",
   "metadata": {},
   "outputs": [],
   "source": [
    "import pandas as pd\n",
    "import os\n",
    "import glob\n",
    "from os.path import join\n",
    "import numpy as np\n",
    "import random\n",
    "from pycaret.classification import *\n",
    "from pycaret.datasets import get_data\n",
    "\n",
    "from create_datasets import create_train_dataset_supervised, \\\n",
    "    create_test_dataset_balanced, \\\n",
    "    create_test_dataset_unbalanced\n",
    "from sklearn.linear_model import LogisticRegression\n",
    "from sklearn.neighbors import KNeighborsClassifier\n",
    "from sklearn.metrics import roc_auc_score, accuracy_score, f1_score, auc"
   ]
  },
  {
   "cell_type": "code",
   "execution_count": 53,
   "id": "bdda96e7",
   "metadata": {},
   "outputs": [],
   "source": [
    "random.seed(42)\n",
    "\n",
    "WORK_DIR = os.path.dirname('.')\n",
    "FM_DIR = os.path.join(WORK_DIR, 'feature_maps')\n",
    "BENCHMARK_DIR = os.path.join(WORK_DIR, 'benchmark')\n",
    "DATA_DIR = os.path.join(WORK_DIR, 'data')\n",
    "OUTPUTS_DIR = os.path.join(WORK_DIR, 'outputs')"
   ]
  },
  {
   "cell_type": "code",
   "execution_count": 73,
   "id": "7ac0ced8",
   "metadata": {},
   "outputs": [],
   "source": [
    "data_set_idx = 1001\n",
    "X_train_sup, y_train_sup, sizes_train = create_train_dataset_supervised(data_set_idx)\n",
    "X_test_b, y_test_b, sizes_balanced = create_test_dataset_balanced(data_set_idx)\n",
    "X_test_ub, y_test_ub, sizes_unbalanced = create_test_dataset_unbalanced(data_set_idx)\n",
    "data_train_df = pd.DataFrame(X_train_sup)\n",
    "data_test_b_df = pd.DataFrame(X_test_b)\n",
    "data_test_ub_df = pd.DataFrame(X_test_ub)\n",
    "    \n",
    "data_train_df['Labels'] = y_train_sup\n",
    "data_test_b_df['Labels'] = y_test_b\n",
    "data_test_ub_df['Labels'] = y_test_ub"
   ]
  },
  {
   "cell_type": "code",
   "execution_count": 74,
   "id": "eee10a7e",
   "metadata": {},
   "outputs": [
    {
     "data": {
      "text/plain": [
       "(7098, 513)"
      ]
     },
     "execution_count": 74,
     "metadata": {},
     "output_type": "execute_result"
    }
   ],
   "source": [
    "data_test_b_df.shape"
   ]
  },
  {
   "cell_type": "markdown",
   "id": "0de4227d",
   "metadata": {},
   "source": [
    "# Check balanced dataset"
   ]
  },
  {
   "cell_type": "code",
   "execution_count": 131,
   "id": "90663c24",
   "metadata": {},
   "outputs": [
    {
     "data": {
      "text/html": [
       "<style type=\"text/css\">\n",
       "#T_70d6f_row8_col1 {\n",
       "  background-color: lightgreen;\n",
       "}\n",
       "</style>\n",
       "<table id=\"T_70d6f_\">\n",
       "  <thead>\n",
       "    <tr>\n",
       "      <th class=\"blank level0\" >&nbsp;</th>\n",
       "      <th class=\"col_heading level0 col0\" >Description</th>\n",
       "      <th class=\"col_heading level0 col1\" >Value</th>\n",
       "    </tr>\n",
       "  </thead>\n",
       "  <tbody>\n",
       "    <tr>\n",
       "      <th id=\"T_70d6f_level0_row0\" class=\"row_heading level0 row0\" >0</th>\n",
       "      <td id=\"T_70d6f_row0_col0\" class=\"data row0 col0\" >Session id</td>\n",
       "      <td id=\"T_70d6f_row0_col1\" class=\"data row0 col1\" >42</td>\n",
       "    </tr>\n",
       "    <tr>\n",
       "      <th id=\"T_70d6f_level0_row1\" class=\"row_heading level0 row1\" >1</th>\n",
       "      <td id=\"T_70d6f_row1_col0\" class=\"data row1 col0\" >Target</td>\n",
       "      <td id=\"T_70d6f_row1_col1\" class=\"data row1 col1\" >Labels</td>\n",
       "    </tr>\n",
       "    <tr>\n",
       "      <th id=\"T_70d6f_level0_row2\" class=\"row_heading level0 row2\" >2</th>\n",
       "      <td id=\"T_70d6f_row2_col0\" class=\"data row2 col0\" >Target type</td>\n",
       "      <td id=\"T_70d6f_row2_col1\" class=\"data row2 col1\" >Binary</td>\n",
       "    </tr>\n",
       "    <tr>\n",
       "      <th id=\"T_70d6f_level0_row3\" class=\"row_heading level0 row3\" >3</th>\n",
       "      <td id=\"T_70d6f_row3_col0\" class=\"data row3 col0\" >Original data shape</td>\n",
       "      <td id=\"T_70d6f_row3_col1\" class=\"data row3 col1\" >(23660, 513)</td>\n",
       "    </tr>\n",
       "    <tr>\n",
       "      <th id=\"T_70d6f_level0_row4\" class=\"row_heading level0 row4\" >4</th>\n",
       "      <td id=\"T_70d6f_row4_col0\" class=\"data row4 col0\" >Transformed data shape</td>\n",
       "      <td id=\"T_70d6f_row4_col1\" class=\"data row4 col1\" >(23660, 513)</td>\n",
       "    </tr>\n",
       "    <tr>\n",
       "      <th id=\"T_70d6f_level0_row5\" class=\"row_heading level0 row5\" >5</th>\n",
       "      <td id=\"T_70d6f_row5_col0\" class=\"data row5 col0\" >Transformed train set shape</td>\n",
       "      <td id=\"T_70d6f_row5_col1\" class=\"data row5 col1\" >(16562, 513)</td>\n",
       "    </tr>\n",
       "    <tr>\n",
       "      <th id=\"T_70d6f_level0_row6\" class=\"row_heading level0 row6\" >6</th>\n",
       "      <td id=\"T_70d6f_row6_col0\" class=\"data row6 col0\" >Transformed test set shape</td>\n",
       "      <td id=\"T_70d6f_row6_col1\" class=\"data row6 col1\" >(7098, 513)</td>\n",
       "    </tr>\n",
       "    <tr>\n",
       "      <th id=\"T_70d6f_level0_row7\" class=\"row_heading level0 row7\" >7</th>\n",
       "      <td id=\"T_70d6f_row7_col0\" class=\"data row7 col0\" >Numeric features</td>\n",
       "      <td id=\"T_70d6f_row7_col1\" class=\"data row7 col1\" >512</td>\n",
       "    </tr>\n",
       "    <tr>\n",
       "      <th id=\"T_70d6f_level0_row8\" class=\"row_heading level0 row8\" >8</th>\n",
       "      <td id=\"T_70d6f_row8_col0\" class=\"data row8 col0\" >Preprocess</td>\n",
       "      <td id=\"T_70d6f_row8_col1\" class=\"data row8 col1\" >True</td>\n",
       "    </tr>\n",
       "    <tr>\n",
       "      <th id=\"T_70d6f_level0_row9\" class=\"row_heading level0 row9\" >9</th>\n",
       "      <td id=\"T_70d6f_row9_col0\" class=\"data row9 col0\" >Imputation type</td>\n",
       "      <td id=\"T_70d6f_row9_col1\" class=\"data row9 col1\" >simple</td>\n",
       "    </tr>\n",
       "    <tr>\n",
       "      <th id=\"T_70d6f_level0_row10\" class=\"row_heading level0 row10\" >10</th>\n",
       "      <td id=\"T_70d6f_row10_col0\" class=\"data row10 col0\" >Numeric imputation</td>\n",
       "      <td id=\"T_70d6f_row10_col1\" class=\"data row10 col1\" >mean</td>\n",
       "    </tr>\n",
       "    <tr>\n",
       "      <th id=\"T_70d6f_level0_row11\" class=\"row_heading level0 row11\" >11</th>\n",
       "      <td id=\"T_70d6f_row11_col0\" class=\"data row11 col0\" >Categorical imputation</td>\n",
       "      <td id=\"T_70d6f_row11_col1\" class=\"data row11 col1\" >mode</td>\n",
       "    </tr>\n",
       "    <tr>\n",
       "      <th id=\"T_70d6f_level0_row12\" class=\"row_heading level0 row12\" >12</th>\n",
       "      <td id=\"T_70d6f_row12_col0\" class=\"data row12 col0\" >Fold Generator</td>\n",
       "      <td id=\"T_70d6f_row12_col1\" class=\"data row12 col1\" >StratifiedKFold</td>\n",
       "    </tr>\n",
       "    <tr>\n",
       "      <th id=\"T_70d6f_level0_row13\" class=\"row_heading level0 row13\" >13</th>\n",
       "      <td id=\"T_70d6f_row13_col0\" class=\"data row13 col0\" >Fold Number</td>\n",
       "      <td id=\"T_70d6f_row13_col1\" class=\"data row13 col1\" >10</td>\n",
       "    </tr>\n",
       "    <tr>\n",
       "      <th id=\"T_70d6f_level0_row14\" class=\"row_heading level0 row14\" >14</th>\n",
       "      <td id=\"T_70d6f_row14_col0\" class=\"data row14 col0\" >CPU Jobs</td>\n",
       "      <td id=\"T_70d6f_row14_col1\" class=\"data row14 col1\" >1</td>\n",
       "    </tr>\n",
       "    <tr>\n",
       "      <th id=\"T_70d6f_level0_row15\" class=\"row_heading level0 row15\" >15</th>\n",
       "      <td id=\"T_70d6f_row15_col0\" class=\"data row15 col0\" >Use GPU</td>\n",
       "      <td id=\"T_70d6f_row15_col1\" class=\"data row15 col1\" >False</td>\n",
       "    </tr>\n",
       "    <tr>\n",
       "      <th id=\"T_70d6f_level0_row16\" class=\"row_heading level0 row16\" >16</th>\n",
       "      <td id=\"T_70d6f_row16_col0\" class=\"data row16 col0\" >Log Experiment</td>\n",
       "      <td id=\"T_70d6f_row16_col1\" class=\"data row16 col1\" >False</td>\n",
       "    </tr>\n",
       "    <tr>\n",
       "      <th id=\"T_70d6f_level0_row17\" class=\"row_heading level0 row17\" >17</th>\n",
       "      <td id=\"T_70d6f_row17_col0\" class=\"data row17 col0\" >Experiment Name</td>\n",
       "      <td id=\"T_70d6f_row17_col1\" class=\"data row17 col1\" >clf-default-name</td>\n",
       "    </tr>\n",
       "    <tr>\n",
       "      <th id=\"T_70d6f_level0_row18\" class=\"row_heading level0 row18\" >18</th>\n",
       "      <td id=\"T_70d6f_row18_col0\" class=\"data row18 col0\" >USI</td>\n",
       "      <td id=\"T_70d6f_row18_col1\" class=\"data row18 col1\" >449d</td>\n",
       "    </tr>\n",
       "  </tbody>\n",
       "</table>\n"
      ],
      "text/plain": [
       "<pandas.io.formats.style.Styler at 0x203076d1f28>"
      ]
     },
     "metadata": {},
     "output_type": "display_data"
    },
    {
     "data": {
      "text/plain": [
       "<pycaret.classification.oop.ClassificationExperiment at 0x203076b9860>"
      ]
     },
     "execution_count": 131,
     "metadata": {},
     "output_type": "execute_result"
    }
   ],
   "source": [
    "setup(data_train_df, test_data=data_test_b_df, index=False, target='Labels', session_id=42, n_jobs=1)"
   ]
  },
  {
   "cell_type": "code",
   "execution_count": 132,
   "id": "66b82580",
   "metadata": {},
   "outputs": [
    {
     "data": {
      "text/html": [],
      "text/plain": [
       "<IPython.core.display.HTML object>"
      ]
     },
     "metadata": {},
     "output_type": "display_data"
    },
    {
     "data": {
      "text/html": [
       "<style type=\"text/css\">\n",
       "#T_ee95b_ th {\n",
       "  text-align: left;\n",
       "}\n",
       "#T_ee95b_row0_col0, #T_ee95b_row0_col2, #T_ee95b_row0_col4, #T_ee95b_row1_col0, #T_ee95b_row1_col1, #T_ee95b_row1_col3, #T_ee95b_row1_col5, #T_ee95b_row1_col6, #T_ee95b_row1_col7, #T_ee95b_row2_col0, #T_ee95b_row2_col1, #T_ee95b_row2_col2, #T_ee95b_row2_col3, #T_ee95b_row2_col4, #T_ee95b_row2_col5, #T_ee95b_row2_col6, #T_ee95b_row2_col7 {\n",
       "  text-align: left;\n",
       "}\n",
       "#T_ee95b_row0_col1, #T_ee95b_row0_col3, #T_ee95b_row0_col5, #T_ee95b_row0_col6, #T_ee95b_row0_col7, #T_ee95b_row1_col2, #T_ee95b_row1_col4 {\n",
       "  text-align: left;\n",
       "  background-color: yellow;\n",
       "}\n",
       "#T_ee95b_row0_col8, #T_ee95b_row2_col8 {\n",
       "  text-align: left;\n",
       "  background-color: lightgrey;\n",
       "}\n",
       "#T_ee95b_row1_col8 {\n",
       "  text-align: left;\n",
       "  background-color: yellow;\n",
       "  background-color: lightgrey;\n",
       "}\n",
       "</style>\n",
       "<table id=\"T_ee95b_\">\n",
       "  <thead>\n",
       "    <tr>\n",
       "      <th class=\"blank level0\" >&nbsp;</th>\n",
       "      <th class=\"col_heading level0 col0\" >Model</th>\n",
       "      <th class=\"col_heading level0 col1\" >Accuracy</th>\n",
       "      <th class=\"col_heading level0 col2\" >AUC</th>\n",
       "      <th class=\"col_heading level0 col3\" >Recall</th>\n",
       "      <th class=\"col_heading level0 col4\" >Prec.</th>\n",
       "      <th class=\"col_heading level0 col5\" >F1</th>\n",
       "      <th class=\"col_heading level0 col6\" >Kappa</th>\n",
       "      <th class=\"col_heading level0 col7\" >MCC</th>\n",
       "      <th class=\"col_heading level0 col8\" >TT (Sec)</th>\n",
       "    </tr>\n",
       "  </thead>\n",
       "  <tbody>\n",
       "    <tr>\n",
       "      <th id=\"T_ee95b_level0_row0\" class=\"row_heading level0 row0\" >knn</th>\n",
       "      <td id=\"T_ee95b_row0_col0\" class=\"data row0 col0\" >K Neighbors Classifier</td>\n",
       "      <td id=\"T_ee95b_row0_col1\" class=\"data row0 col1\" >0.9868</td>\n",
       "      <td id=\"T_ee95b_row0_col2\" class=\"data row0 col2\" >0.9962</td>\n",
       "      <td id=\"T_ee95b_row0_col3\" class=\"data row0 col3\" >0.9944</td>\n",
       "      <td id=\"T_ee95b_row0_col4\" class=\"data row0 col4\" >0.9795</td>\n",
       "      <td id=\"T_ee95b_row0_col5\" class=\"data row0 col5\" >0.9869</td>\n",
       "      <td id=\"T_ee95b_row0_col6\" class=\"data row0 col6\" >0.9735</td>\n",
       "      <td id=\"T_ee95b_row0_col7\" class=\"data row0 col7\" >0.9736</td>\n",
       "      <td id=\"T_ee95b_row0_col8\" class=\"data row0 col8\" >0.1800</td>\n",
       "    </tr>\n",
       "    <tr>\n",
       "      <th id=\"T_ee95b_level0_row1\" class=\"row_heading level0 row1\" >lr</th>\n",
       "      <td id=\"T_ee95b_row1_col0\" class=\"data row1 col0\" >Logistic Regression</td>\n",
       "      <td id=\"T_ee95b_row1_col1\" class=\"data row1 col1\" >0.9810</td>\n",
       "      <td id=\"T_ee95b_row1_col2\" class=\"data row1 col2\" >0.9976</td>\n",
       "      <td id=\"T_ee95b_row1_col3\" class=\"data row1 col3\" >0.9797</td>\n",
       "      <td id=\"T_ee95b_row1_col4\" class=\"data row1 col4\" >0.9822</td>\n",
       "      <td id=\"T_ee95b_row1_col5\" class=\"data row1 col5\" >0.9810</td>\n",
       "      <td id=\"T_ee95b_row1_col6\" class=\"data row1 col6\" >0.9620</td>\n",
       "      <td id=\"T_ee95b_row1_col7\" class=\"data row1 col7\" >0.9620</td>\n",
       "      <td id=\"T_ee95b_row1_col8\" class=\"data row1 col8\" >0.1500</td>\n",
       "    </tr>\n",
       "    <tr>\n",
       "      <th id=\"T_ee95b_level0_row2\" class=\"row_heading level0 row2\" >dummy</th>\n",
       "      <td id=\"T_ee95b_row2_col0\" class=\"data row2 col0\" >Dummy Classifier</td>\n",
       "      <td id=\"T_ee95b_row2_col1\" class=\"data row2 col1\" >0.5000</td>\n",
       "      <td id=\"T_ee95b_row2_col2\" class=\"data row2 col2\" >0.5000</td>\n",
       "      <td id=\"T_ee95b_row2_col3\" class=\"data row2 col3\" >0.0000</td>\n",
       "      <td id=\"T_ee95b_row2_col4\" class=\"data row2 col4\" >0.0000</td>\n",
       "      <td id=\"T_ee95b_row2_col5\" class=\"data row2 col5\" >0.0000</td>\n",
       "      <td id=\"T_ee95b_row2_col6\" class=\"data row2 col6\" >0.0000</td>\n",
       "      <td id=\"T_ee95b_row2_col7\" class=\"data row2 col7\" >0.0000</td>\n",
       "      <td id=\"T_ee95b_row2_col8\" class=\"data row2 col8\" >0.1900</td>\n",
       "    </tr>\n",
       "  </tbody>\n",
       "</table>\n"
      ],
      "text/plain": [
       "<pandas.io.formats.style.Styler at 0x203076717f0>"
      ]
     },
     "metadata": {},
     "output_type": "display_data"
    },
    {
     "data": {
      "text/html": [],
      "text/plain": [
       "<IPython.core.display.HTML object>"
      ]
     },
     "metadata": {},
     "output_type": "display_data"
    }
   ],
   "source": [
    "models = compare_models(cross_validation=False, include=['lr', 'knn', 'dummy'], n_select=4)"
   ]
  },
  {
   "cell_type": "code",
   "execution_count": 133,
   "id": "427c5212",
   "metadata": {},
   "outputs": [
    {
     "data": {
      "text/html": [
       "<style type=\"text/css\">\n",
       "</style>\n",
       "<table id=\"T_84933_\">\n",
       "  <thead>\n",
       "    <tr>\n",
       "      <th class=\"blank level0\" >&nbsp;</th>\n",
       "      <th class=\"col_heading level0 col0\" >Model</th>\n",
       "      <th class=\"col_heading level0 col1\" >Accuracy</th>\n",
       "      <th class=\"col_heading level0 col2\" >AUC</th>\n",
       "      <th class=\"col_heading level0 col3\" >Recall</th>\n",
       "      <th class=\"col_heading level0 col4\" >Prec.</th>\n",
       "      <th class=\"col_heading level0 col5\" >F1</th>\n",
       "      <th class=\"col_heading level0 col6\" >Kappa</th>\n",
       "      <th class=\"col_heading level0 col7\" >MCC</th>\n",
       "    </tr>\n",
       "  </thead>\n",
       "  <tbody>\n",
       "    <tr>\n",
       "      <th id=\"T_84933_level0_row0\" class=\"row_heading level0 row0\" >0</th>\n",
       "      <td id=\"T_84933_row0_col0\" class=\"data row0 col0\" >Logistic Regression</td>\n",
       "      <td id=\"T_84933_row0_col1\" class=\"data row0 col1\" >0.9810</td>\n",
       "      <td id=\"T_84933_row0_col2\" class=\"data row0 col2\" >0.9976</td>\n",
       "      <td id=\"T_84933_row0_col3\" class=\"data row0 col3\" >0.9797</td>\n",
       "      <td id=\"T_84933_row0_col4\" class=\"data row0 col4\" >0.9822</td>\n",
       "      <td id=\"T_84933_row0_col5\" class=\"data row0 col5\" >0.9810</td>\n",
       "      <td id=\"T_84933_row0_col6\" class=\"data row0 col6\" >0.9620</td>\n",
       "      <td id=\"T_84933_row0_col7\" class=\"data row0 col7\" >0.9620</td>\n",
       "    </tr>\n",
       "  </tbody>\n",
       "</table>\n"
      ],
      "text/plain": [
       "<pandas.io.formats.style.Styler at 0x20307a12f98>"
      ]
     },
     "metadata": {},
     "output_type": "display_data"
    }
   ],
   "source": [
    "df_results = pd.DataFrame()\n",
    "predict_model(models[1])\n",
    "df_results = pull()"
   ]
  },
  {
   "cell_type": "code",
   "execution_count": 134,
   "id": "4630aa3f",
   "metadata": {},
   "outputs": [
    {
     "data": {
      "text/plain": [
       "LogisticRegression(C=1.0, class_weight=None, dual=False, fit_intercept=True,\n",
       "                   intercept_scaling=1, l1_ratio=None, max_iter=1000,\n",
       "                   multi_class='auto', n_jobs=None, penalty='l2',\n",
       "                   random_state=42, solver='lbfgs', tol=0.0001, verbose=0,\n",
       "                   warm_start=False)"
      ]
     },
     "execution_count": 134,
     "metadata": {},
     "output_type": "execute_result"
    }
   ],
   "source": [
    "models[1]"
   ]
  },
  {
   "cell_type": "code",
   "execution_count": 135,
   "id": "dbe2dbd2",
   "metadata": {},
   "outputs": [
    {
     "data": {
      "text/plain": [
       "LogisticRegression(C=1.0, class_weight=None, dual=False, fit_intercept=True,\n",
       "                   intercept_scaling=1, l1_ratio=None, max_iter=1000,\n",
       "                   multi_class='auto', n_jobs=None, penalty='l2',\n",
       "                   random_state=42, solver='lbfgs', tol=0.0001, verbose=0,\n",
       "                   warm_start=False)"
      ]
     },
     "execution_count": 135,
     "metadata": {},
     "output_type": "execute_result"
    }
   ],
   "source": [
    "lr = LogisticRegression(max_iter=1000, random_state=42)\n",
    "lr"
   ]
  },
  {
   "cell_type": "code",
   "execution_count": 136,
   "id": "6173cd2d",
   "metadata": {},
   "outputs": [
    {
     "data": {
      "text/plain": [
       "LogisticRegression(C=1.0, class_weight=None, dual=False, fit_intercept=True,\n",
       "                   intercept_scaling=1, l1_ratio=None, max_iter=1000,\n",
       "                   multi_class='auto', n_jobs=None, penalty='l2',\n",
       "                   random_state=42, solver='lbfgs', tol=0.0001, verbose=0,\n",
       "                   warm_start=False)"
      ]
     },
     "execution_count": 136,
     "metadata": {},
     "output_type": "execute_result"
    }
   ],
   "source": [
    "lr.fit(X_train_sup, y_train_sup)"
   ]
  },
  {
   "cell_type": "code",
   "execution_count": 137,
   "id": "031b5858",
   "metadata": {},
   "outputs": [],
   "source": [
    "y_pred = lr.predict(X_test_b)\n",
    "y_scores = lr.predict_proba(X_test_b)"
   ]
  },
  {
   "cell_type": "code",
   "execution_count": 138,
   "id": "7a657219",
   "metadata": {},
   "outputs": [
    {
     "name": "stdout",
     "output_type": "stream",
     "text": [
      "accuracy: 0.9809805579036348\n",
      "auc: 0.997648347996225\n",
      "f1: 0.9809564113415151\n"
     ]
    }
   ],
   "source": [
    "accuracy = accuracy_score(y_test_b, y_pred)\n",
    "print(f'accuracy: {accuracy}')\n",
    "auc = roc_auc_score(y_test_b, y_scores[:,1])\n",
    "print(f'auc: {auc}')\n",
    "f1 = f1_score(y_test_b, y_pred)\n",
    "print(f'f1: {f1}')"
   ]
  },
  {
   "cell_type": "code",
   "execution_count": 139,
   "id": "6c8dcbf3",
   "metadata": {},
   "outputs": [
    {
     "data": {
      "text/html": [
       "<style type=\"text/css\">\n",
       "</style>\n",
       "<table id=\"T_3a59f_\">\n",
       "  <thead>\n",
       "    <tr>\n",
       "      <th class=\"blank level0\" >&nbsp;</th>\n",
       "      <th class=\"col_heading level0 col0\" >Model</th>\n",
       "      <th class=\"col_heading level0 col1\" >Accuracy</th>\n",
       "      <th class=\"col_heading level0 col2\" >AUC</th>\n",
       "      <th class=\"col_heading level0 col3\" >Recall</th>\n",
       "      <th class=\"col_heading level0 col4\" >Prec.</th>\n",
       "      <th class=\"col_heading level0 col5\" >F1</th>\n",
       "      <th class=\"col_heading level0 col6\" >Kappa</th>\n",
       "      <th class=\"col_heading level0 col7\" >MCC</th>\n",
       "    </tr>\n",
       "  </thead>\n",
       "  <tbody>\n",
       "    <tr>\n",
       "      <th id=\"T_3a59f_level0_row0\" class=\"row_heading level0 row0\" >0</th>\n",
       "      <td id=\"T_3a59f_row0_col0\" class=\"data row0 col0\" >K Neighbors Classifier</td>\n",
       "      <td id=\"T_3a59f_row0_col1\" class=\"data row0 col1\" >0.9868</td>\n",
       "      <td id=\"T_3a59f_row0_col2\" class=\"data row0 col2\" >0.9962</td>\n",
       "      <td id=\"T_3a59f_row0_col3\" class=\"data row0 col3\" >0.9944</td>\n",
       "      <td id=\"T_3a59f_row0_col4\" class=\"data row0 col4\" >0.9795</td>\n",
       "      <td id=\"T_3a59f_row0_col5\" class=\"data row0 col5\" >0.9869</td>\n",
       "      <td id=\"T_3a59f_row0_col6\" class=\"data row0 col6\" >0.9735</td>\n",
       "      <td id=\"T_3a59f_row0_col7\" class=\"data row0 col7\" >0.9736</td>\n",
       "    </tr>\n",
       "  </tbody>\n",
       "</table>\n"
      ],
      "text/plain": [
       "<pandas.io.formats.style.Styler at 0x2030b9f72b0>"
      ]
     },
     "metadata": {},
     "output_type": "display_data"
    }
   ],
   "source": [
    "df_results = pd.DataFrame()\n",
    "predict_model(models[0])\n",
    "df_results = pull()"
   ]
  },
  {
   "cell_type": "code",
   "execution_count": 140,
   "id": "b3e33d21",
   "metadata": {},
   "outputs": [
    {
     "data": {
      "text/plain": [
       "KNeighborsClassifier(algorithm='auto', leaf_size=30, metric='minkowski',\n",
       "                     metric_params=None, n_jobs=1, n_neighbors=5, p=2,\n",
       "                     weights='uniform')"
      ]
     },
     "execution_count": 140,
     "metadata": {},
     "output_type": "execute_result"
    }
   ],
   "source": [
    "models[0]"
   ]
  },
  {
   "cell_type": "code",
   "execution_count": 141,
   "id": "ff90a73d",
   "metadata": {},
   "outputs": [
    {
     "data": {
      "text/plain": [
       "KNeighborsClassifier(algorithm='auto', leaf_size=30, metric='minkowski',\n",
       "                     metric_params=None, n_jobs=1, n_neighbors=5, p=2,\n",
       "                     weights='uniform')"
      ]
     },
     "execution_count": 141,
     "metadata": {},
     "output_type": "execute_result"
    }
   ],
   "source": [
    "knn = KNeighborsClassifier(n_jobs=1)\n",
    "knn"
   ]
  },
  {
   "cell_type": "code",
   "execution_count": 142,
   "id": "126f6236",
   "metadata": {},
   "outputs": [
    {
     "data": {
      "text/plain": [
       "KNeighborsClassifier(algorithm='auto', leaf_size=30, metric='minkowski',\n",
       "                     metric_params=None, n_jobs=1, n_neighbors=5, p=2,\n",
       "                     weights='uniform')"
      ]
     },
     "execution_count": 142,
     "metadata": {},
     "output_type": "execute_result"
    }
   ],
   "source": [
    "knn.fit(X_train_sup, y_train_sup)"
   ]
  },
  {
   "cell_type": "code",
   "execution_count": 143,
   "id": "ad201cbf",
   "metadata": {},
   "outputs": [],
   "source": [
    "y_pred = knn.predict(X_test_b)\n",
    "y_scores = knn.predict_proba(X_test_b)"
   ]
  },
  {
   "cell_type": "code",
   "execution_count": 144,
   "id": "aeca507c",
   "metadata": {},
   "outputs": [
    {
     "name": "stdout",
     "output_type": "stream",
     "text": [
      "accuracy: 0.9867568329106791\n",
      "auc: 0.9961682839633292\n",
      "f1: 0.9868568232662193\n"
     ]
    }
   ],
   "source": [
    "accuracy = accuracy_score(y_test_b, y_pred)\n",
    "print(f'accuracy: {accuracy}')\n",
    "auc = roc_auc_score(y_test_b, y_scores[:,1])\n",
    "print(f'auc: {auc}')\n",
    "f1 = f1_score(y_test_b, y_pred)\n",
    "print(f'f1: {f1}')"
   ]
  },
  {
   "cell_type": "markdown",
   "id": "86cf2e1a",
   "metadata": {},
   "source": [
    "# Check unbalanced dataset"
   ]
  },
  {
   "cell_type": "code",
   "execution_count": 145,
   "id": "4764de43",
   "metadata": {},
   "outputs": [
    {
     "data": {
      "text/html": [
       "<style type=\"text/css\">\n",
       "#T_1c9e4_row8_col1 {\n",
       "  background-color: lightgreen;\n",
       "}\n",
       "</style>\n",
       "<table id=\"T_1c9e4_\">\n",
       "  <thead>\n",
       "    <tr>\n",
       "      <th class=\"blank level0\" >&nbsp;</th>\n",
       "      <th class=\"col_heading level0 col0\" >Description</th>\n",
       "      <th class=\"col_heading level0 col1\" >Value</th>\n",
       "    </tr>\n",
       "  </thead>\n",
       "  <tbody>\n",
       "    <tr>\n",
       "      <th id=\"T_1c9e4_level0_row0\" class=\"row_heading level0 row0\" >0</th>\n",
       "      <td id=\"T_1c9e4_row0_col0\" class=\"data row0 col0\" >Session id</td>\n",
       "      <td id=\"T_1c9e4_row0_col1\" class=\"data row0 col1\" >42</td>\n",
       "    </tr>\n",
       "    <tr>\n",
       "      <th id=\"T_1c9e4_level0_row1\" class=\"row_heading level0 row1\" >1</th>\n",
       "      <td id=\"T_1c9e4_row1_col0\" class=\"data row1 col0\" >Target</td>\n",
       "      <td id=\"T_1c9e4_row1_col1\" class=\"data row1 col1\" >Labels</td>\n",
       "    </tr>\n",
       "    <tr>\n",
       "      <th id=\"T_1c9e4_level0_row2\" class=\"row_heading level0 row2\" >2</th>\n",
       "      <td id=\"T_1c9e4_row2_col0\" class=\"data row2 col0\" >Target type</td>\n",
       "      <td id=\"T_1c9e4_row2_col1\" class=\"data row2 col1\" >Binary</td>\n",
       "    </tr>\n",
       "    <tr>\n",
       "      <th id=\"T_1c9e4_level0_row3\" class=\"row_heading level0 row3\" >3</th>\n",
       "      <td id=\"T_1c9e4_row3_col0\" class=\"data row3 col0\" >Original data shape</td>\n",
       "      <td id=\"T_1c9e4_row3_col1\" class=\"data row3 col1\" >(23896, 513)</td>\n",
       "    </tr>\n",
       "    <tr>\n",
       "      <th id=\"T_1c9e4_level0_row4\" class=\"row_heading level0 row4\" >4</th>\n",
       "      <td id=\"T_1c9e4_row4_col0\" class=\"data row4 col0\" >Transformed data shape</td>\n",
       "      <td id=\"T_1c9e4_row4_col1\" class=\"data row4 col1\" >(23896, 513)</td>\n",
       "    </tr>\n",
       "    <tr>\n",
       "      <th id=\"T_1c9e4_level0_row5\" class=\"row_heading level0 row5\" >5</th>\n",
       "      <td id=\"T_1c9e4_row5_col0\" class=\"data row5 col0\" >Transformed train set shape</td>\n",
       "      <td id=\"T_1c9e4_row5_col1\" class=\"data row5 col1\" >(16562, 513)</td>\n",
       "    </tr>\n",
       "    <tr>\n",
       "      <th id=\"T_1c9e4_level0_row6\" class=\"row_heading level0 row6\" >6</th>\n",
       "      <td id=\"T_1c9e4_row6_col0\" class=\"data row6 col0\" >Transformed test set shape</td>\n",
       "      <td id=\"T_1c9e4_row6_col1\" class=\"data row6 col1\" >(7334, 513)</td>\n",
       "    </tr>\n",
       "    <tr>\n",
       "      <th id=\"T_1c9e4_level0_row7\" class=\"row_heading level0 row7\" >7</th>\n",
       "      <td id=\"T_1c9e4_row7_col0\" class=\"data row7 col0\" >Numeric features</td>\n",
       "      <td id=\"T_1c9e4_row7_col1\" class=\"data row7 col1\" >512</td>\n",
       "    </tr>\n",
       "    <tr>\n",
       "      <th id=\"T_1c9e4_level0_row8\" class=\"row_heading level0 row8\" >8</th>\n",
       "      <td id=\"T_1c9e4_row8_col0\" class=\"data row8 col0\" >Preprocess</td>\n",
       "      <td id=\"T_1c9e4_row8_col1\" class=\"data row8 col1\" >True</td>\n",
       "    </tr>\n",
       "    <tr>\n",
       "      <th id=\"T_1c9e4_level0_row9\" class=\"row_heading level0 row9\" >9</th>\n",
       "      <td id=\"T_1c9e4_row9_col0\" class=\"data row9 col0\" >Imputation type</td>\n",
       "      <td id=\"T_1c9e4_row9_col1\" class=\"data row9 col1\" >simple</td>\n",
       "    </tr>\n",
       "    <tr>\n",
       "      <th id=\"T_1c9e4_level0_row10\" class=\"row_heading level0 row10\" >10</th>\n",
       "      <td id=\"T_1c9e4_row10_col0\" class=\"data row10 col0\" >Numeric imputation</td>\n",
       "      <td id=\"T_1c9e4_row10_col1\" class=\"data row10 col1\" >mean</td>\n",
       "    </tr>\n",
       "    <tr>\n",
       "      <th id=\"T_1c9e4_level0_row11\" class=\"row_heading level0 row11\" >11</th>\n",
       "      <td id=\"T_1c9e4_row11_col0\" class=\"data row11 col0\" >Categorical imputation</td>\n",
       "      <td id=\"T_1c9e4_row11_col1\" class=\"data row11 col1\" >mode</td>\n",
       "    </tr>\n",
       "    <tr>\n",
       "      <th id=\"T_1c9e4_level0_row12\" class=\"row_heading level0 row12\" >12</th>\n",
       "      <td id=\"T_1c9e4_row12_col0\" class=\"data row12 col0\" >Fold Generator</td>\n",
       "      <td id=\"T_1c9e4_row12_col1\" class=\"data row12 col1\" >StratifiedKFold</td>\n",
       "    </tr>\n",
       "    <tr>\n",
       "      <th id=\"T_1c9e4_level0_row13\" class=\"row_heading level0 row13\" >13</th>\n",
       "      <td id=\"T_1c9e4_row13_col0\" class=\"data row13 col0\" >Fold Number</td>\n",
       "      <td id=\"T_1c9e4_row13_col1\" class=\"data row13 col1\" >10</td>\n",
       "    </tr>\n",
       "    <tr>\n",
       "      <th id=\"T_1c9e4_level0_row14\" class=\"row_heading level0 row14\" >14</th>\n",
       "      <td id=\"T_1c9e4_row14_col0\" class=\"data row14 col0\" >CPU Jobs</td>\n",
       "      <td id=\"T_1c9e4_row14_col1\" class=\"data row14 col1\" >1</td>\n",
       "    </tr>\n",
       "    <tr>\n",
       "      <th id=\"T_1c9e4_level0_row15\" class=\"row_heading level0 row15\" >15</th>\n",
       "      <td id=\"T_1c9e4_row15_col0\" class=\"data row15 col0\" >Use GPU</td>\n",
       "      <td id=\"T_1c9e4_row15_col1\" class=\"data row15 col1\" >False</td>\n",
       "    </tr>\n",
       "    <tr>\n",
       "      <th id=\"T_1c9e4_level0_row16\" class=\"row_heading level0 row16\" >16</th>\n",
       "      <td id=\"T_1c9e4_row16_col0\" class=\"data row16 col0\" >Log Experiment</td>\n",
       "      <td id=\"T_1c9e4_row16_col1\" class=\"data row16 col1\" >False</td>\n",
       "    </tr>\n",
       "    <tr>\n",
       "      <th id=\"T_1c9e4_level0_row17\" class=\"row_heading level0 row17\" >17</th>\n",
       "      <td id=\"T_1c9e4_row17_col0\" class=\"data row17 col0\" >Experiment Name</td>\n",
       "      <td id=\"T_1c9e4_row17_col1\" class=\"data row17 col1\" >clf-default-name</td>\n",
       "    </tr>\n",
       "    <tr>\n",
       "      <th id=\"T_1c9e4_level0_row18\" class=\"row_heading level0 row18\" >18</th>\n",
       "      <td id=\"T_1c9e4_row18_col0\" class=\"data row18 col0\" >USI</td>\n",
       "      <td id=\"T_1c9e4_row18_col1\" class=\"data row18 col1\" >4f56</td>\n",
       "    </tr>\n",
       "  </tbody>\n",
       "</table>\n"
      ],
      "text/plain": [
       "<pandas.io.formats.style.Styler at 0x203041e8cf8>"
      ]
     },
     "metadata": {},
     "output_type": "display_data"
    },
    {
     "data": {
      "text/html": [],
      "text/plain": [
       "<IPython.core.display.HTML object>"
      ]
     },
     "metadata": {},
     "output_type": "display_data"
    },
    {
     "data": {
      "text/html": [
       "<style type=\"text/css\">\n",
       "#T_699d1_ th {\n",
       "  text-align: left;\n",
       "}\n",
       "#T_699d1_row0_col0, #T_699d1_row0_col2, #T_699d1_row0_col4, #T_699d1_row1_col0, #T_699d1_row1_col1, #T_699d1_row1_col3, #T_699d1_row1_col5, #T_699d1_row1_col6, #T_699d1_row1_col7, #T_699d1_row2_col0, #T_699d1_row2_col1, #T_699d1_row2_col2, #T_699d1_row2_col3, #T_699d1_row2_col4, #T_699d1_row2_col5, #T_699d1_row2_col6, #T_699d1_row2_col7 {\n",
       "  text-align: left;\n",
       "}\n",
       "#T_699d1_row0_col1, #T_699d1_row0_col3, #T_699d1_row0_col5, #T_699d1_row0_col6, #T_699d1_row0_col7, #T_699d1_row1_col2, #T_699d1_row1_col4 {\n",
       "  text-align: left;\n",
       "  background-color: yellow;\n",
       "}\n",
       "#T_699d1_row0_col8, #T_699d1_row1_col8 {\n",
       "  text-align: left;\n",
       "  background-color: lightgrey;\n",
       "}\n",
       "#T_699d1_row2_col8 {\n",
       "  text-align: left;\n",
       "  background-color: yellow;\n",
       "  background-color: lightgrey;\n",
       "}\n",
       "</style>\n",
       "<table id=\"T_699d1_\">\n",
       "  <thead>\n",
       "    <tr>\n",
       "      <th class=\"blank level0\" >&nbsp;</th>\n",
       "      <th class=\"col_heading level0 col0\" >Model</th>\n",
       "      <th class=\"col_heading level0 col1\" >Accuracy</th>\n",
       "      <th class=\"col_heading level0 col2\" >AUC</th>\n",
       "      <th class=\"col_heading level0 col3\" >Recall</th>\n",
       "      <th class=\"col_heading level0 col4\" >Prec.</th>\n",
       "      <th class=\"col_heading level0 col5\" >F1</th>\n",
       "      <th class=\"col_heading level0 col6\" >Kappa</th>\n",
       "      <th class=\"col_heading level0 col7\" >MCC</th>\n",
       "      <th class=\"col_heading level0 col8\" >TT (Sec)</th>\n",
       "    </tr>\n",
       "  </thead>\n",
       "  <tbody>\n",
       "    <tr>\n",
       "      <th id=\"T_699d1_level0_row0\" class=\"row_heading level0 row0\" >knn</th>\n",
       "      <td id=\"T_699d1_row0_col0\" class=\"data row0 col0\" >K Neighbors Classifier</td>\n",
       "      <td id=\"T_699d1_row0_col1\" class=\"data row0 col1\" >0.9853</td>\n",
       "      <td id=\"T_699d1_row0_col2\" class=\"data row0 col2\" >0.9961</td>\n",
       "      <td id=\"T_699d1_row0_col3\" class=\"data row0 col3\" >0.9938</td>\n",
       "      <td id=\"T_699d1_row0_col4\" class=\"data row0 col4\" >0.9675</td>\n",
       "      <td id=\"T_699d1_row0_col5\" class=\"data row0 col5\" >0.9805</td>\n",
       "      <td id=\"T_699d1_row0_col6\" class=\"data row0 col6\" >0.9687</td>\n",
       "      <td id=\"T_699d1_row0_col7\" class=\"data row0 col7\" >0.9689</td>\n",
       "      <td id=\"T_699d1_row0_col8\" class=\"data row0 col8\" >0.2000</td>\n",
       "    </tr>\n",
       "    <tr>\n",
       "      <th id=\"T_699d1_level0_row1\" class=\"row_heading level0 row1\" >lr</th>\n",
       "      <td id=\"T_699d1_row1_col0\" class=\"data row1 col0\" >Logistic Regression</td>\n",
       "      <td id=\"T_699d1_row1_col1\" class=\"data row1 col1\" >0.9798</td>\n",
       "      <td id=\"T_699d1_row1_col2\" class=\"data row1 col2\" >0.9973</td>\n",
       "      <td id=\"T_699d1_row1_col3\" class=\"data row1 col3\" >0.9762</td>\n",
       "      <td id=\"T_699d1_row1_col4\" class=\"data row1 col4\" >0.9698</td>\n",
       "      <td id=\"T_699d1_row1_col5\" class=\"data row1 col5\" >0.9730</td>\n",
       "      <td id=\"T_699d1_row1_col6\" class=\"data row1 col6\" >0.9569</td>\n",
       "      <td id=\"T_699d1_row1_col7\" class=\"data row1 col7\" >0.9569</td>\n",
       "      <td id=\"T_699d1_row1_col8\" class=\"data row1 col8\" >0.1600</td>\n",
       "    </tr>\n",
       "    <tr>\n",
       "      <th id=\"T_699d1_level0_row2\" class=\"row_heading level0 row2\" >dummy</th>\n",
       "      <td id=\"T_699d1_row2_col0\" class=\"data row2 col0\" >Dummy Classifier</td>\n",
       "      <td id=\"T_699d1_row2_col1\" class=\"data row2 col1\" >0.6278</td>\n",
       "      <td id=\"T_699d1_row2_col2\" class=\"data row2 col2\" >0.5000</td>\n",
       "      <td id=\"T_699d1_row2_col3\" class=\"data row2 col3\" >0.0000</td>\n",
       "      <td id=\"T_699d1_row2_col4\" class=\"data row2 col4\" >0.0000</td>\n",
       "      <td id=\"T_699d1_row2_col5\" class=\"data row2 col5\" >0.0000</td>\n",
       "      <td id=\"T_699d1_row2_col6\" class=\"data row2 col6\" >0.0000</td>\n",
       "      <td id=\"T_699d1_row2_col7\" class=\"data row2 col7\" >0.0000</td>\n",
       "      <td id=\"T_699d1_row2_col8\" class=\"data row2 col8\" >0.1500</td>\n",
       "    </tr>\n",
       "  </tbody>\n",
       "</table>\n"
      ],
      "text/plain": [
       "<pandas.io.formats.style.Styler at 0x203041e8e48>"
      ]
     },
     "metadata": {},
     "output_type": "display_data"
    },
    {
     "data": {
      "text/html": [],
      "text/plain": [
       "<IPython.core.display.HTML object>"
      ]
     },
     "metadata": {},
     "output_type": "display_data"
    },
    {
     "data": {
      "text/html": [
       "<style type=\"text/css\">\n",
       "</style>\n",
       "<table id=\"T_00a4e_\">\n",
       "  <thead>\n",
       "    <tr>\n",
       "      <th class=\"blank level0\" >&nbsp;</th>\n",
       "      <th class=\"col_heading level0 col0\" >Model</th>\n",
       "      <th class=\"col_heading level0 col1\" >Accuracy</th>\n",
       "      <th class=\"col_heading level0 col2\" >AUC</th>\n",
       "      <th class=\"col_heading level0 col3\" >Recall</th>\n",
       "      <th class=\"col_heading level0 col4\" >Prec.</th>\n",
       "      <th class=\"col_heading level0 col5\" >F1</th>\n",
       "      <th class=\"col_heading level0 col6\" >Kappa</th>\n",
       "      <th class=\"col_heading level0 col7\" >MCC</th>\n",
       "    </tr>\n",
       "  </thead>\n",
       "  <tbody>\n",
       "    <tr>\n",
       "      <th id=\"T_00a4e_level0_row0\" class=\"row_heading level0 row0\" >0</th>\n",
       "      <td id=\"T_00a4e_row0_col0\" class=\"data row0 col0\" >Logistic Regression</td>\n",
       "      <td id=\"T_00a4e_row0_col1\" class=\"data row0 col1\" >0.9798</td>\n",
       "      <td id=\"T_00a4e_row0_col2\" class=\"data row0 col2\" >0.9973</td>\n",
       "      <td id=\"T_00a4e_row0_col3\" class=\"data row0 col3\" >0.9762</td>\n",
       "      <td id=\"T_00a4e_row0_col4\" class=\"data row0 col4\" >0.9698</td>\n",
       "      <td id=\"T_00a4e_row0_col5\" class=\"data row0 col5\" >0.9730</td>\n",
       "      <td id=\"T_00a4e_row0_col6\" class=\"data row0 col6\" >0.9569</td>\n",
       "      <td id=\"T_00a4e_row0_col7\" class=\"data row0 col7\" >0.9569</td>\n",
       "    </tr>\n",
       "  </tbody>\n",
       "</table>\n"
      ],
      "text/plain": [
       "<pandas.io.formats.style.Styler at 0x20307959828>"
      ]
     },
     "metadata": {},
     "output_type": "display_data"
    }
   ],
   "source": [
    "setup(data_train_df, test_data=data_test_ub_df, index=False, target='Labels', session_id=42, n_jobs=1)\n",
    "models = compare_models(cross_validation=False, include=['lr', 'knn', 'dummy'], n_select=4)\n",
    "df_results = pd.DataFrame()\n",
    "predict_model(models[1])\n",
    "df_results = pull()"
   ]
  },
  {
   "cell_type": "code",
   "execution_count": 146,
   "id": "1c4cfde8",
   "metadata": {},
   "outputs": [
    {
     "data": {
      "text/plain": [
       "LogisticRegression(C=1.0, class_weight=None, dual=False, fit_intercept=True,\n",
       "                   intercept_scaling=1, l1_ratio=None, max_iter=1000,\n",
       "                   multi_class='auto', n_jobs=None, penalty='l2',\n",
       "                   random_state=42, solver='lbfgs', tol=0.0001, verbose=0,\n",
       "                   warm_start=False)"
      ]
     },
     "execution_count": 146,
     "metadata": {},
     "output_type": "execute_result"
    }
   ],
   "source": [
    "models[1]"
   ]
  },
  {
   "cell_type": "code",
   "execution_count": 147,
   "id": "0747539d",
   "metadata": {},
   "outputs": [
    {
     "data": {
      "text/plain": [
       "LogisticRegression(C=1.0, class_weight=None, dual=False, fit_intercept=True,\n",
       "                   intercept_scaling=1, l1_ratio=None, max_iter=1000,\n",
       "                   multi_class='auto', n_jobs=None, penalty='l2',\n",
       "                   random_state=42, solver='lbfgs', tol=0.0001, verbose=0,\n",
       "                   warm_start=False)"
      ]
     },
     "execution_count": 147,
     "metadata": {},
     "output_type": "execute_result"
    }
   ],
   "source": [
    "lr = LogisticRegression(max_iter=1000, random_state=42)\n",
    "lr"
   ]
  },
  {
   "cell_type": "code",
   "execution_count": 148,
   "id": "b180828f",
   "metadata": {},
   "outputs": [
    {
     "data": {
      "text/plain": [
       "LogisticRegression(C=1.0, class_weight=None, dual=False, fit_intercept=True,\n",
       "                   intercept_scaling=1, l1_ratio=None, max_iter=1000,\n",
       "                   multi_class='auto', n_jobs=None, penalty='l2',\n",
       "                   random_state=42, solver='lbfgs', tol=0.0001, verbose=0,\n",
       "                   warm_start=False)"
      ]
     },
     "execution_count": 148,
     "metadata": {},
     "output_type": "execute_result"
    }
   ],
   "source": [
    "lr.fit(X_train_sup, y_train_sup)"
   ]
  },
  {
   "cell_type": "code",
   "execution_count": 149,
   "id": "c90b77ac",
   "metadata": {},
   "outputs": [],
   "source": [
    "y_pred = lr.predict(X_test_ub)\n",
    "y_scores = lr.predict_proba(X_test_ub)"
   ]
  },
  {
   "cell_type": "code",
   "execution_count": 150,
   "id": "b9e935e0",
   "metadata": {},
   "outputs": [
    {
     "name": "stdout",
     "output_type": "stream",
     "text": [
      "accuracy: 0.9798200163621489\n",
      "auc: 0.9972944373900066\n",
      "f1: 0.97298284045272\n"
     ]
    }
   ],
   "source": [
    "accuracy = accuracy_score(y_test_ub, y_pred)\n",
    "print(f'accuracy: {accuracy}')\n",
    "auc = roc_auc_score(y_test_ub, y_scores[:,1])\n",
    "print(f'auc: {auc}')\n",
    "f1 = f1_score(y_test_ub, y_pred)\n",
    "print(f'f1: {f1}')"
   ]
  },
  {
   "cell_type": "code",
   "execution_count": 151,
   "id": "9d1feda0",
   "metadata": {},
   "outputs": [
    {
     "data": {
      "text/plain": [
       "KNeighborsClassifier(algorithm='auto', leaf_size=30, metric='minkowski',\n",
       "                     metric_params=None, n_jobs=1, n_neighbors=5, p=2,\n",
       "                     weights='uniform')"
      ]
     },
     "execution_count": 151,
     "metadata": {},
     "output_type": "execute_result"
    }
   ],
   "source": [
    "models[0]"
   ]
  },
  {
   "cell_type": "code",
   "execution_count": 152,
   "id": "dabc63a9",
   "metadata": {},
   "outputs": [
    {
     "data": {
      "text/plain": [
       "KNeighborsClassifier(algorithm='auto', leaf_size=30, metric='minkowski',\n",
       "                     metric_params=None, n_jobs=1, n_neighbors=5, p=2,\n",
       "                     weights='uniform')"
      ]
     },
     "execution_count": 152,
     "metadata": {},
     "output_type": "execute_result"
    }
   ],
   "source": [
    "knn = KNeighborsClassifier(n_jobs=1)\n",
    "knn"
   ]
  },
  {
   "cell_type": "code",
   "execution_count": 153,
   "id": "e536b859",
   "metadata": {},
   "outputs": [
    {
     "data": {
      "text/plain": [
       "KNeighborsClassifier(algorithm='auto', leaf_size=30, metric='minkowski',\n",
       "                     metric_params=None, n_jobs=1, n_neighbors=5, p=2,\n",
       "                     weights='uniform')"
      ]
     },
     "execution_count": 153,
     "metadata": {},
     "output_type": "execute_result"
    }
   ],
   "source": [
    "knn.fit(X_train_sup, y_train_sup)"
   ]
  },
  {
   "cell_type": "code",
   "execution_count": 154,
   "id": "5212feae",
   "metadata": {},
   "outputs": [],
   "source": [
    "y_pred = knn.predict(X_test_ub)\n",
    "y_scores = knn.predict_proba(X_test_ub)"
   ]
  },
  {
   "cell_type": "code",
   "execution_count": 155,
   "id": "4656a42f",
   "metadata": {},
   "outputs": [
    {
     "name": "stdout",
     "output_type": "stream",
     "text": [
      "accuracy: 0.9852740659940006\n",
      "auc: 0.996134791215156\n",
      "f1: 0.9804842790025299\n"
     ]
    }
   ],
   "source": [
    "accuracy = accuracy_score(y_test_ub, y_pred)\n",
    "print(f'accuracy: {accuracy}')\n",
    "auc = roc_auc_score(y_test_ub, y_scores[:,1])\n",
    "print(f'auc: {auc}')\n",
    "f1 = f1_score(y_test_ub, y_pred)\n",
    "print(f'f1: {f1}')"
   ]
  },
  {
   "cell_type": "code",
   "execution_count": null,
   "id": "b2b989ee",
   "metadata": {},
   "outputs": [],
   "source": []
  }
 ],
 "metadata": {
  "kernelspec": {
   "display_name": "Python 3 (ipykernel)",
   "language": "python",
   "name": "python3"
  },
  "language_info": {
   "codemirror_mode": {
    "name": "ipython",
    "version": 3
   },
   "file_extension": ".py",
   "mimetype": "text/x-python",
   "name": "python",
   "nbconvert_exporter": "python",
   "pygments_lexer": "ipython3",
   "version": "3.7.2"
  }
 },
 "nbformat": 4,
 "nbformat_minor": 5
}
